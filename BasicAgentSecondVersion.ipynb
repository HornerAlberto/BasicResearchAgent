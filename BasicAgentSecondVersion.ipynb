{
 "cells": [
  {
   "cell_type": "code",
   "execution_count": 64,
   "id": "d498dbcb",
   "metadata": {},
   "outputs": [],
   "source": [
    "from agent2 import Agent"
   ]
  },
  {
   "cell_type": "code",
   "execution_count": 75,
   "id": "4a5418e7",
   "metadata": {},
   "outputs": [
    {
     "name": "stdout",
     "output_type": "stream",
     "text": [
      "\n",
      "MOFs are porous polymers that are classified as reticular materials, belonging to the subclass of coordination networks and coordination polymers. They have various applications such as gas storage, purification, and separation, and are the focus of reticular chemistry. In addition, there are also covalent organic frameworks (COFs) made of light elements. Recent studies have shown that organic molecular FETs can be used to study the properties of two-dimensional metals, and proposed experiments to investigate band-filling dependent cyclotron resonance and the effect of van Hove singularities. The use of quantum computing has the potential to accelerate the discovery of solid sorbents for direct air capture applications, but computational discovery is challenging due to the vast chemical search space and requirements for molecular selectivity. However, the Qubit-ADAPT-VQE technique has been used for simulations to predict gas adsorption in metal-organic frameworks. Additionally, a general approach has been used to determine the first ionisation energy for six porous metal-organic frameworks.\n"
     ]
    }
   ],
   "source": [
    "agent = Agent()\n",
    "info = await agent.gather_information(\"metal organic framework\")\n",
    "agent.enrich_knowledge_base(info)\n",
    "extract = agent.analyze_information(info)\n",
    "summary = agent.generate_summary(extract)\n",
    "print(summary)"
   ]
  },
  {
   "cell_type": "code",
   "execution_count": 76,
   "id": "42e2adb4",
   "metadata": {},
   "outputs": [
    {
     "name": "stdout",
     "output_type": "stream",
     "text": [
      "\n",
      "The main applications of metal organic frameworks (MOFs) include gas storage, gas purification, gas separation, water remediation, catalysis, conducting solids, supercapacitors, and materials discovery for direct air capture applications. They are also being studied for their band-filling dependent properties, such as cyclotron resonance, and their potential for deployment at scale. Additionally, MOFs are being explored for their electronic chemical potentials, which can determine important chemical and physical properties. \n"
     ]
    }
   ],
   "source": [
    "response = agent.query_knowledge_base(\n",
    "    \"What are the main applications of metal organic frameworks?\"\n",
    ")\n",
    "print(response)"
   ]
  }
 ],
 "metadata": {
  "kernelspec": {
   "display_name": ".venv",
   "language": "python",
   "name": "python3"
  },
  "language_info": {
   "codemirror_mode": {
    "name": "ipython",
    "version": 3
   },
   "file_extension": ".py",
   "mimetype": "text/x-python",
   "name": "python",
   "nbconvert_exporter": "python",
   "pygments_lexer": "ipython3",
   "version": "3.13.8"
  }
 },
 "nbformat": 4,
 "nbformat_minor": 5
}
