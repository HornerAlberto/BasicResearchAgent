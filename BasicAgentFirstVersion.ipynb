{
 "cells": [
  {
   "cell_type": "code",
   "execution_count": 4,
   "id": "9a6f2316",
   "metadata": {},
   "outputs": [],
   "source": [
    "from agent1 import Agent"
   ]
  },
  {
   "cell_type": "code",
   "execution_count": 5,
   "id": "8c0169be",
   "metadata": {},
   "outputs": [
    {
     "name": "stdout",
     "output_type": "stream",
     "text": [
      "Summary: \n",
      "\n",
      "Metal-organic frameworks (MOFs) are a type of porous polymer that consist of metal clusters and organic ligands. They can have one-dimensional, two-dimensional, or three-dimensional structures and are classified as reticular materials within the subclass of coordination networks and coordination polymers. MOFs have stable pores that can be refilled with other compounds, making them useful for gas storage and purification. They also have potential applications in water remediation, catalysis, and energy storage. MOFs are the primary focus of reticular chemistry, while covalent organic frameworks (COFs) are made entirely of light elements.\n"
     ]
    }
   ],
   "source": [
    "agent = Agent()\n",
    "info = agent.gather_information(\"metal organic frameworks\")\n",
    "agent.enrich_knowledge_base(info)\n",
    "analysis = agent.analyze_information(info)\n",
    "summary = agent.generate_summary(analysis=analysis)\n",
    "print(f\"Summary: {summary}\")\n"
   ]
  },
  {
   "cell_type": "code",
   "execution_count": 6,
   "id": "9a5134aa",
   "metadata": {},
   "outputs": [
    {
     "name": "stdout",
     "output_type": "stream",
     "text": [
      "Metal–organic frameworks (MOFs) are a class of porous polymers consisting of metal clusters, also known as secondary building units (SBUs), coordinated to organic ligands to form one-, two-, or three-dimensional structures. The organic ligands included are sometimes referred to as \"struts\" or \"linkers\", one example being 1,4-benzenedicarboxylic acid (H2bdc). MOFs are classified as reticular materials.\n",
      "More formally, a metal–organic framework is a potentially porous extended structure made from metal ions and organic linkers. An extended structure is a structure whose sub-units occur in a constant ratio and are arranged in a repeating pattern. MOFs are a subclass of coordination networks, which is a coordination compound extending, through repeating coordination entities, in one dimension, but with cross-links between two or more individual chains, loops, or spiro-links, or a coordination compound extending through repeating coordination entities in two or three dimensions. Coordination networks including MOFs further belong to coordination polymers, which is a coordination compound with repeating coordination entities extending in one, two, or three dimensions. Most of the MOFs reported in the literature are crystalline compounds, but there are also amorphous MOFs, and other disordered phases.\n",
      "In most cases for MOFs, the pores are stable during the elimination of the guest molecules (often solvents) and could be refilled with other compounds. Because of this property, MOFs are of interest for the storage of gases such as hydrogen and carbon dioxide. Other possible applications of MOFs are in gas purification, in gas separation, in water remediation, in catalysis, as conducting solids and as supercapacitors.\n",
      "The synthesis and properties of MOFs constitute the primary focus of reticular chemistry (from Latin reticulum, \"small net\"). In contrast to MOFs, covalent organic frameworks (COFs) are made entirely from light elements (H, B, C, N, and O) with extended structure\n"
     ]
    }
   ],
   "source": [
    "r = agent.query_knowledge_base(\n",
    "    \"What are the main applications of metal organic frameworks?\"\n",
    ")\n",
    "print(r)"
   ]
  }
 ],
 "metadata": {
  "kernelspec": {
   "display_name": ".venv",
   "language": "python",
   "name": "python3"
  },
  "language_info": {
   "codemirror_mode": {
    "name": "ipython",
    "version": 3
   },
   "file_extension": ".py",
   "mimetype": "text/x-python",
   "name": "python",
   "nbconvert_exporter": "python",
   "pygments_lexer": "ipython3",
   "version": "3.13.8"
  }
 },
 "nbformat": 4,
 "nbformat_minor": 5
}
